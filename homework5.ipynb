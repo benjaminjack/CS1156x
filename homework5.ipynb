{
 "cells": [
  {
   "cell_type": "markdown",
   "metadata": {},
   "source": [
    "# Learning from the Data, Homework 5"
   ]
  },
  {
   "cell_type": "markdown",
   "metadata": {},
   "source": [
    "## Linear Regression Error\n",
    "\n",
    "Consider a noisy target $y = \\mathbf{w}^{∗T} \\mathbf{x} + \\epsilon$, where $\\mathbf{x} \\in \\mathbb{R}^d$ (with the added coordinate $x_0 = 1$), $y \\in \\mathbb{R}$, $\\mathbf{w}^∗$ is an unknown vector, and $\\epsilon$ is a noise term with zero mean and $\\sigma^2$ variance. Assume $\\epsilon$ is independent of $\\mathbf{x}$ and of all other $\\epsilon$’s. If linear regression is carried out using a training data set $\\mathcal{D} = \\{(\\mathbf{x}_1, y_1), . . . , (\\mathbf{x}_N, y_N )\\}$, and outputs the parameter vector $\\mathbf{w}_\\text{lin}$, it can be shown that the expected in-sample error $E_\\text{in}$ with respect to $\\mathcal{D}$ is given by:\n",
    "\n",
    "$\\mathbb{E}_\\mathcal{D}[E_\\text{in}(\\mathbf{w}_\\text{lin})] = \\sigma^2 \\left(1 - \\frac{d + 1}{N}\\right)$\n",
    "\n",
    "### Problem 1\n",
    "\n",
    "For $sigma = 0.1$ and $d = 8$, which among the following choices is the smallest number of examples $N$ that will result in an expected $E_\\text{in}$ greater than 0.008?"
   ]
  },
  {
   "cell_type": "code",
   "execution_count": 1,
   "metadata": {
    "collapsed": false
   },
   "outputs": [
    {
     "name": "stdout",
     "output_type": "stream",
     "text": [
      "10: 0.001\n",
      "25: 0.006400000000000001\n",
      "100: 0.009100000000000002\n",
      "500: 0.009820000000000002\n",
      "1000: 0.009910000000000002\n"
     ]
    }
   ],
   "source": [
    "def e_in(N, sigma=0.1, d=8.0):\n",
    "    return (sigma**2)*(1-((d + 1)/N))\n",
    "    \n",
    "for N in [10, 25, 100, 500, 1000]:\n",
    "    print(str(N) + \": \" + str(e_in(N)))"
   ]
  },
  {
   "cell_type": "markdown",
   "metadata": {},
   "source": [
    "Answer: [**c**] 100"
   ]
  },
  {
   "cell_type": "markdown",
   "metadata": {},
   "source": [
    "## Nonlinear Transforms\n",
    "\n",
    "In the linear classification, consider the feature transform $\\Phi : \\mathbb{R}^2 \\rightarrow \\mathbb{R}^2$ (plus the added zeroth coordinate) given by:\n",
    "\n",
    "$\\Phi(1, x_1, x_2) = (1, x_1^2, x_2^2)$\n",
    "\n",
    "### Problem 2\n",
    "\n",
    "Which of the following sets of constraints on the weights in the $\\mathcal{Z}$ space could correspond to the hyperbolic decision boundary in $\\mathcal{X}$ depicted in the figure?\n",
    "\n",
    "You may assume that $\\tilde{w}_0$ can be selected to achieve the desired boundary.\n",
    "\n",
    "$w_0*1 + w_1*x_1^2 + w_2*x_2^2 = 0$\n",
    "\n",
    "$x_2 = \\sqrt{\\frac{-w_0 - w_1*x_1^2}{w_2}}$"
   ]
  },
  {
   "cell_type": "code",
   "execution_count": 2,
   "metadata": {
    "collapsed": false
   },
   "outputs": [
    {
     "name": "stderr",
     "output_type": "stream",
     "text": [
      "/usr/local/lib/python3.6/site-packages/ipykernel/__main__.py:6: RuntimeWarning: invalid value encountered in sqrt\n"
     ]
    },
    {
     "data": {
      "image/png": "[encoded data removed]",
      "text/plain": [
       "<matplotlib.figure.Figure at 0x10dbbdf98>"
      ]
     },
     "metadata": {},
     "output_type": "display_data"
    },
    {
     "name": "stdout",
     "output_type": "stream",
     "text": [
      "0.15\n",
      "0.15\n",
      "-0.9750000000000001\n",
      "-0.9750000000000001\n"
     ]
    }
   ],
   "source": [
    "%matplotlib inline\n",
    "import matplotlib.pyplot as plt\n",
    "import numpy as np\n",
    "\n",
    "def hyperbolic(w0, w1, w2, x1):\n",
    "    x2 = np.sqrt((-w0 - w1*x1**2)/w2)\n",
    "    return x2, -x2 \n",
    "\n",
    "x1 = np.linspace(-1, 1)\n",
    "\n",
    "# Pick values of w0, w1, w2, until you get a shape that approximates\n",
    "# boundaries that we are given.\n",
    "x2, x2_neg = hyperbolic(0.01, -1, 1, x1)\n",
    "\n",
    "plt.plot(x1, x2, \n",
    "         x1, x2_neg)\n",
    "plt.show()\n",
    "\n",
    "def evaluate(w0, w1, w2, x1, x2):\n",
    "    return w0*1 + w1*x1**2 + w2*x2**2\n",
    "\n",
    "# Evaluate points on either side of boundary to verify that the inner\n",
    "# region is +1 and left and right sides are -1.\n",
    "print(evaluate(-0.10, -2, 1, 0, 0.5))\n",
    "print(evaluate(-0.10, -2, 1, 0, -0.5))\n",
    "print(evaluate(-0.10, -2, 1, 0.75, 0.5))\n",
    "print(evaluate(-0.10, -2, 1, -0.75, 0.5))"
   ]
  },
  {
   "cell_type": "markdown",
   "metadata": {},
   "source": [
    "Answer: [**d**] $\\tilde{w_1} < 0, \\tilde{w_2} > 0$ "
   ]
  },
  {
   "cell_type": "markdown",
   "metadata": {},
   "source": [
    "### Problem 3\n",
    "\n",
    "Now, consider the 4th order polynomial transform from the input space $\\mathbb{R}^2$:\n",
    "\n",
    "$\\Phi_4 : \\mathbb{x} \\rightarrow (1, x_1, x_2, x_1^2, x_2^2, x_1^3, x_1^2x_2, x_1, x_2^2, x_2^3, x_1^4, x_1^3x_2, x_1^2x_2^2, x_1x_2^3, x_2^4)$\n",
    "\n",
    "What is the smallest value among the following choices that is *not* smaller than the VC dimension of a linear model in this transformed space?\n",
    "\n",
    "Since there are 15 parameters in the transformed space, then $d_\\text{vc} \\leq 15$.\n",
    "\n",
    "Answer: [**c**] 15"
   ]
  },
  {
   "cell_type": "markdown",
   "metadata": {},
   "source": [
    "## Gradient Descent\n",
    "\n",
    "Consider the nonlinear error surface $E(u,v) = (ue^v - 2ve^{-u})^2$. We start at the point $(u,v) = (1,1)$ and minimize this error using gradient descent in the $uv$ space. Use $\\eta = 0.1$ (learning rate, not step size).\n",
    "\n",
    "### Problem 4\n",
    "\n",
    "What is the partial derivative of $E(u,v)$ with respect to $u$, i.e., $\\frac{\\partial E}{\\partial u}$?\n",
    "\n",
    "By the chain rule, $\\frac{\\partial E}{\\partial u} = 2(ue^v - 2ve^{-u})(e^v + 2ve^{-u})$.\n",
    "\n",
    "Answer: [**e**] $2(e^v + 2ve^{-u})(ue^v - 2ve^{-u})$"
   ]
  },
  {
   "cell_type": "markdown",
   "metadata": {},
   "source": [
    "### Problem 5\n",
    "\n",
    "How many iterations (among the given choices) does it take for the error $E(u,v)$ to fall below $10^{-14}$ for the first time? In your programs, make sure to use double precision to get the needed accuracy."
   ]
  },
  {
   "cell_type": "code",
   "execution_count": 3,
   "metadata": {
    "collapsed": false
   },
   "outputs": [
    {
     "name": "stdout",
     "output_type": "stream",
     "text": [
      "starting error: 3.93039723188\n",
      "iterations: 10\n",
      "error: 1.20868339442e-15\n"
     ]
    }
   ],
   "source": [
    "def E_in(u, v):\n",
    "    return (u*np.exp(v) - 2*v*np.exp(-u))**2\n",
    "\n",
    "def du(u, v):\n",
    "    return 2*(np.exp(v) + 2*v*np.exp(-u))*(u*np.exp(v) - 2*v*np.exp(-u))\n",
    "\n",
    "def dv(u, v):\n",
    "    return 2*(u*np.exp(v) - 2*np.exp(-u))*(u*np.exp(v) - 2*np.exp(-u)*v)\n",
    "\n",
    "n = 0  # iterations\n",
    "u = 1.0\n",
    "v = 1.0\n",
    "eta = 0.1\n",
    "error = E_in(u, v)\n",
    "print(\"starting error:\", error)\n",
    "\n",
    "while error > 10e-14:\n",
    "    delta_u = eta*du(u, v)\n",
    "    delta_v = eta*dv(u, v)\n",
    "    u -= delta_u\n",
    "    v -= delta_v\n",
    "    error = E_in(u, v)\n",
    "    n += 1\n",
    "\n",
    "print(\"iterations:\", n)\n",
    "print(\"error:\", error)"
   ]
  },
  {
   "cell_type": "markdown",
   "metadata": {},
   "source": [
    "Answer: [**d**] 10"
   ]
  },
  {
   "cell_type": "markdown",
   "metadata": {},
   "source": [
    "### Problem 6\n",
    "\n",
    "After running enough iterations such that the error has just dropped below $10^{-14}$, what are the closest values (in Euclidean distance) among the following choices to the final $(u, v)$ you go in Problem 5?"
   ]
  },
  {
   "cell_type": "code",
   "execution_count": 4,
   "metadata": {
    "collapsed": false
   },
   "outputs": [
    {
     "name": "stdout",
     "output_type": "stream",
     "text": [
      "final (u, v): 0.0447362903978 0.0239587140991\n"
     ]
    }
   ],
   "source": [
    "print(\"final (u, v):\", u, v)"
   ]
  },
  {
   "cell_type": "markdown",
   "metadata": {},
   "source": [
    "Answer: [**e**] (0.045, 0.024)"
   ]
  },
  {
   "cell_type": "markdown",
   "metadata": {},
   "source": [
    "### Problem 7\n",
    "\n",
    "Now, we will compare the performance of \"coordinate descent.\" In each iteration, we have two steps along the 2 coordinates. Step 1 is to move only along the $u$ coordinate to reduce the error (assume first-order approximation holds like in gradient descent), and step 2 is to reevaluate and move only along the $v$ coordinate to reduce the error (again, assume first-order approximation holds). Use the same learning rate of $\\eta = 0.1$ as we did in gradient descent. What will the error $E(u,v$ be closest to after 15 full iterations (30 steps)?"
   ]
  },
  {
   "cell_type": "code",
   "execution_count": 5,
   "metadata": {
    "collapsed": false
   },
   "outputs": [
    {
     "name": "stdout",
     "output_type": "stream",
     "text": [
      "starting error: 3.93039723188\n",
      "error: 0.139813791996\n"
     ]
    }
   ],
   "source": [
    "u = 1.0\n",
    "v = 1.0\n",
    "eta = 0.1\n",
    "error = E_in(u, v)\n",
    "print(\"starting error:\", error)\n",
    "\n",
    "for i in range(15):\n",
    "    # Step 1\n",
    "    delta_u = eta*du(u, v)\n",
    "    u -= delta_u\n",
    "    # Step 2\n",
    "    delta_v = eta*dv(u, v)\n",
    "    v -= delta_v\n",
    "    error = E_in(u, v)\n",
    "\n",
    "print(\"error:\", error)"
   ]
  },
  {
   "cell_type": "markdown",
   "metadata": {},
   "source": [
    "Answer: [**a**] $10^{-1}$"
   ]
  },
  {
   "cell_type": "markdown",
   "metadata": {},
   "source": [
    "## Logistic Regression\n",
    "\n",
    "In this problem you will create your own target function $f$ (probability in this case) and data set $\\mathcal{D}$ to see how Logistic Regression works. For simplicity, we will take $f$ to be a 0/1 probability so $y$ is a deterministic function of $\\mathbf{x}$.\n",
    "\n",
    "Take $d = 2$ so you can visualize the problem, and let $\\mathcal{X} = [-1, 1]\\times[-1,1]$ with uniform probability of picking each $\\mathbf{x} \\in \\mathcal{X}$. Choose a line in the plane as the boundary between $f(\\mathbf{x}) = 1$ (where $y$ has to be +1) and $f(\\mathbf{x}) = 0$ (where $y$ has to be -1) by taking two random, uniformly distributed points from $\\mathcal{X}$ and taking the line passing through them as the boundary between $y = \\pm1$. Pick $N = 100$ traning points at random from $\\mathcal{X}$, and evaluate the outputs $y_n$ for each of these points $\\mathbf{x}_n$.\n",
    "\n",
    "Run Logistic Regression with Stochastic Gradient Descent to find $g$, and estimate $E_\\text{out}$ (the **cross entropy** error) by generating a sufficiently large, separate set of points to evaluate the error. Repeat the experiment for 100 runs with different targets and take the average. Initialize the weight vector of Logistic Regression to all zeros in each run. Stop the algorithm when $\\| \\mathbf{w}^{(t-1)} - \\mathbf{w}^{(t)}\\| < 0.01$, where $\\mathbf{w}^{(t)}$ denotes the weight vector at the end of epoch $t$. An epoch is a full pass through the $N$ data points (use a random permutation of 1, 2, ..., $N$ to present the data points to the algorithm within each epoch, and use different permutations for different epochs). Use a learning rate of 0.01.\n",
    "\n",
    "### Problem 8\n",
    "\n",
    "Which of the following is closest to $E_\\text{out}$ for $N = 100$?"
   ]
  },
  {
   "cell_type": "code",
   "execution_count": 6,
   "metadata": {
    "collapsed": false
   },
   "outputs": [
    {
     "name": "stdout",
     "output_type": "stream",
     "text": [
      "Mean out of sample error: [[ 0.10123029]]\n"
     ]
    }
   ],
   "source": [
    "import numpy as np\n",
    "np.random.seed(1)\n",
    "def generate_line():\n",
    "    x_rand = np.random.uniform(-1, 1, size=(2,2))\n",
    "    slope = (x_rand[0,1] - x_rand[0,0])/(x_rand[1,1] - x_rand[1,0])\n",
    "    intercept = x_rand[0,1] - slope*x_rand[0,0]\n",
    "    W_true = np.array([[intercept], [slope], [-1]])\n",
    "    return W_true\n",
    "\n",
    "def generate_points(W_true, N=100):\n",
    "    ones = np.ones((1, N))\n",
    "    X = np.vstack((ones, np.random.uniform(-1,1, size=(2,N))))\n",
    "    Y = np.sign(np.dot(W_true.T, X))\n",
    "    return X, Y\n",
    "\n",
    "def shuffle_examples(X, Y):\n",
    "    X_Y = np.vstack((X, Y)).T\n",
    "    np.random.shuffle(X_Y)\n",
    "    X_Y = X_Y.T\n",
    "    X = X_Y[0:3, :]\n",
    "    Y = X_Y[[3], :]\n",
    "    return X, Y\n",
    "\n",
    "def estimate_e_out(W_true, W):\n",
    "    X, Y = generate_points(W_true, N=1000)\n",
    "    error = 0\n",
    "    for i in range(X.shape[1]):\n",
    "        x = X[:, [i]]\n",
    "        y = Y[:, i]\n",
    "        error += np.log(1 + np.exp(-y*np.dot(W.T,x)))/1000\n",
    "    return error\n",
    "\n",
    "def grad_descent(W_true, X, Y, eta = 0.01, max_epochs = 10000):\n",
    "    W = np.zeros((3,1))\n",
    "    m_examples = X.shape[1]\n",
    "    for n in range(max_epochs):\n",
    "        cost = 0\n",
    "        W_old = np.copy(W)\n",
    "        X, Y = shuffle_examples(X, Y)\n",
    "        for i in range(m_examples):\n",
    "            x = X[:, [i]]\n",
    "            y = Y[:, i]\n",
    "            grad = -(y*x)/(1 + np.exp(y*np.dot(W.T,x)))\n",
    "            W = W - eta*grad\n",
    "            cost += np.log(1 + np.exp(-y*np.dot(W.T,x)))/m_examples\n",
    "        if np.linalg.norm(W_old-W) < 0.01:\n",
    "            return cost, n, W, estimate_e_out(W_true, W)\n",
    "\n",
    "W_true = generate_line()\n",
    "X, Y = generate_points(W_true)\n",
    "\n",
    "mean_epochs = 0\n",
    "mean_e_out = 0\n",
    "for i in range(100):\n",
    "    W_true = generate_line()\n",
    "    X, Y = generate_points(W_true)\n",
    "    cost, epochs, W, e_out = grad_descent(W_true, X, Y)\n",
    "    mean_epochs += epochs/100\n",
    "    mean_e_out += e_out/100\n",
    "\n",
    "print(\"Mean out of sample error:\", mean_e_out)"
   ]
  },
  {
   "cell_type": "markdown",
   "metadata": {
    "collapsed": true
   },
   "source": [
    "Answer: [**d**] 0.10"
   ]
  },
  {
   "cell_type": "markdown",
   "metadata": {
    "collapsed": true
   },
   "source": [
    "### Problem 9\n",
    "\n",
    "How many epochs does it take on average for Logistic Regression to converge for $N = 100$ using the above initialization and termination rules and the specified learning rate? Pick the value that is closest to your results."
   ]
  },
  {
   "cell_type": "code",
   "execution_count": 7,
   "metadata": {
    "collapsed": false
   },
   "outputs": [
    {
     "name": "stdout",
     "output_type": "stream",
     "text": [
      "Mean epochs to convergence: 324.86999999999995\n"
     ]
    }
   ],
   "source": [
    "print(\"Mean epochs to convergence:\", mean_epochs)"
   ]
  },
  {
   "cell_type": "markdown",
   "metadata": {},
   "source": [
    "Answer: [**a**] 350"
   ]
  },
  {
   "cell_type": "markdown",
   "metadata": {},
   "source": [
    "## PLA as SGD\n",
    "\n",
    "### Problem 10\n",
    "\n",
    "The Perceptron Learning Algorithm can be implemented as SGD using which of the following error functions $e_n(\\mathbf{w})$? Ignore the points $\\mathbf{w}$ at which $e_n(\\mathbf{w})$ is not twice differentiable.\n",
    "\n",
    "The error should be 0 if all points are classified correctly, and positive otherwise. The function $e_n(\\mathbf{w}) = −\\min(0,y_n\\mathbf{w}^\\text{T}x_n)$ is the only error function that meets these criteria.\n",
    "\n",
    "Answer: [**e**] $e_n(\\mathbf{w}) = −\\min(0,y_n\\mathbf{w}^\\text{T}x_n)$"
   ]
  }
 ],
 "metadata": {
  "kernelspec": {
   "display_name": "Python 3",
   "language": "python",
   "name": "python3"
  },
  "language_info": {
   "codemirror_mode": {
    "name": "ipython",
    "version": 3
   },
   "file_extension": ".py",
   "mimetype": "text/x-python",
   "name": "python",
   "nbconvert_exporter": "python",
   "pygments_lexer": "ipython3",
   "version": "3.6.2"
  }
 },
 "nbformat": 4,
 "nbformat_minor": 0
}
