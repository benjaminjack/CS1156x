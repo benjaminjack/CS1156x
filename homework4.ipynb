{
 "cells": [
  {
   "cell_type": "code",
   "execution_count": 2,
   "metadata": {
    "collapsed": false
   },
   "outputs": [],
   "source": [
    "%matplotlib inline\n",
    "import matplotlib.pyplot as plt\n",
    "import numpy as np\n",
    "from scipy import optimize"
   ]
  },
  {
   "cell_type": "code",
   "execution_count": 7,
   "metadata": {
    "collapsed": false
   },
   "outputs": [],
   "source": [
    "N = np.linspace(9000, 11000)\n",
    "delta = 0.05\n",
    "vcd = 50 \n",
    "vc_bound = np.sqrt((8./N)*np.log((4*(2*N)**vcd)/delta))\n",
    "penalty_bound = np.sqrt((2*np.log(2*N*N**vcd))/N) + np.sqrt((2./N)*np.log(1/delta)) + 1./N\n",
    "\n",
    "def parrondo(epsilon, N):\n",
    "    return epsilon - np.sqrt((1/N)*(2*epsilon + np.log((6*(2*N)**vcd)/delta)))\n",
    "\n",
    "def vec_parrondo(N):\n",
    "    output = []\n",
    "    for i in N:\n",
    "        output.append(optimize.brentq(parrondo, 0, 10, args = (i)))\n",
    "    return output\n",
    "\n",
    "parrondo_bound = vec_parrondo(N)\n",
    "\n",
    "def devroye(epsilon, N):\n",
    "    return np.sqrt((1/(2*N))*(4*epsilon*(1+epsilon)+np.log(4/delta) + 2*vcd*np.log(N))) - epsilon\n",
    "\n",
    "def vec_devroye(N):\n",
    "    output = []\n",
    "    for i in N:\n",
    "        output.append(optimize.brentq(devroye, 0, 10, args = (i)))\n",
    "    return output\n",
    "\n",
    "devroye_bound = vec_devroye(N)\n"
   ]
  },
  {
   "cell_type": "code",
   "execution_count": 8,
   "metadata": {
    "collapsed": false
   },
   "outputs": [
    {
     "data": {
      "image/png": "[encoded data removed]",
      "text/plain": [
       "<matplotlib.figure.Figure at 0x10815f898>"
      ]
     },
     "metadata": {},
     "output_type": "display_data"
    }
   ],
   "source": [
    "plt.plot(N, vc_bound, 'r-',\n",
    "         N, penalty_bound, 'y-',\n",
    "         N, parrondo_bound, 'b-',\n",
    "         N, devroye_bound, 'g-')\n",
    "plt.show()"
   ]
  },
  {
   "cell_type": "code",
   "execution_count": 23,
   "metadata": {
    "collapsed": false
   },
   "outputs": [
    {
     "name": "stdout",
     "output_type": "stream",
     "text": [
      "[ 1.42706068]\n",
      "0.202413857246\n",
      "0.270473510815\n"
     ]
    }
   ],
   "source": [
    "trials = 100000\n",
    "W = np.zeros((2*trials,1))\n",
    "X_all = np.zeros((2*trials,1))\n",
    "for i in range(trials):\n",
    "    X = np.random.uniform(-1, 1, size=(2,1))\n",
    "    X_all[2*i:2*i+2,:] = X\n",
    "    Y = np.sin(np.pi*X[:,0])\n",
    "    X_cross = np.dot(np.linalg.inv(np.dot(X.T, X)), X.T)\n",
    "    w = np.dot(X_cross, Y)\n",
    "    W[2*i] = w\n",
    "    W[2*i+1] = w\n",
    "    \n",
    "print(np.mean(W, axis = 0))\n",
    "w_bar = np.mean(W, axis = 0)\n",
    "print(np.mean(np.square(w_bar*X_all - W*X_all)))\n",
    "print(np.mean(np.square(w_bar*X_all - np.sin(np.pi*X_all))))"
   ]
  },
  {
   "cell_type": "code",
   "execution_count": null,
   "metadata": {
    "collapsed": true
   },
   "outputs": [],
   "source": []
  },
  {
   "cell_type": "code",
   "execution_count": null,
   "metadata": {
    "collapsed": true
   },
   "outputs": [],
   "source": []
  }
 ],
 "metadata": {
  "kernelspec": {
   "display_name": "Python 3",
   "language": "python",
   "name": "python3"
  },
  "language_info": {
   "codemirror_mode": {
    "name": "ipython",
    "version": 3
   },
   "file_extension": ".py",
   "mimetype": "text/x-python",
   "name": "python",
   "nbconvert_exporter": "python",
   "pygments_lexer": "ipython3",
   "version": "3.6.2"
  }
 },
 "nbformat": 4,
 "nbformat_minor": 0
}
